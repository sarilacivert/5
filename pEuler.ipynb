{
 "cells": [
  {
   "cell_type": "markdown",
   "metadata": {},
   "source": [
    "# Project Euler Challenges"
   ]
  },
  {
   "cell_type": "code",
   "execution_count": 1,
   "metadata": {},
   "outputs": [
    {
     "name": "stdout",
     "output_type": "stream",
     "text": [
      "233168\n"
     ]
    }
   ],
   "source": [
    "# 1\n",
    "\n",
    "m = 0\n",
    "for i in range(1000):\n",
    "    if i % 3 == 0 or i % 5 == 0:\n",
    "        m += i\n",
    "print(m)"
   ]
  },
  {
   "cell_type": "code",
   "execution_count": 2,
   "metadata": {},
   "outputs": [
    {
     "data": {
      "text/plain": [
       "4613732"
      ]
     },
     "execution_count": 2,
     "metadata": {},
     "output_type": "execute_result"
    }
   ],
   "source": [
    "# 2\n",
    "\n",
    "fibonacci  = []\n",
    "fibonacciSUM = []\n",
    "for i in range(100):\n",
    "    if i == 1 or i == 2:\n",
    "        n = i\n",
    "        fibonacci.append(n)\n",
    "        if i == 2:\n",
    "            fibonacciSUM.append(n)\n",
    "    elif i >= 3:\n",
    "        n = fibonacci[i-2] + fibonacci[i-3]\n",
    "        fibonacci.append(n)\n",
    "        if n < 4000000 and n % 2 ==0:\n",
    "            fibonacciSUM.append(n)\n",
    "sum(fibonacciSUM)"
   ]
  },
  {
   "cell_type": "code",
   "execution_count": 3,
   "metadata": {},
   "outputs": [],
   "source": [
    "# 3\n",
    "\n",
    "def prime_factors(n):\n",
    "    i = 2\n",
    "    factors = []\n",
    "    while i * i <= n:\n",
    "        if n % i:\n",
    "            i += 1\n",
    "        else:\n",
    "            n //= i\n",
    "            factors.append(i)\n",
    "    if n > 1:\n",
    "        factors.append(n)\n",
    "    return factors"
   ]
  },
  {
   "cell_type": "code",
   "execution_count": 4,
   "metadata": {},
   "outputs": [
    {
     "data": {
      "text/plain": [
       "[5, 7, 13, 29]"
      ]
     },
     "execution_count": 4,
     "metadata": {},
     "output_type": "execute_result"
    }
   ],
   "source": [
    "prime_factors(13195)"
   ]
  },
  {
   "cell_type": "code",
   "execution_count": 5,
   "metadata": {},
   "outputs": [
    {
     "data": {
      "text/plain": [
       "[71, 839, 1471, 6857]"
      ]
     },
     "execution_count": 5,
     "metadata": {},
     "output_type": "execute_result"
    }
   ],
   "source": [
    "prime_factors(600851475143)"
   ]
  },
  {
   "cell_type": "code",
   "execution_count": 7,
   "metadata": {},
   "outputs": [
    {
     "name": "stdout",
     "output_type": "stream",
     "text": [
      "[906609]\n"
     ]
    }
   ],
   "source": [
    "# 4\n",
    "\n",
    "n = range(100,1000)\n",
    "spl = []\n",
    "\n",
    "for i in n:\n",
    "    for j in n:\n",
    "        prod = i*j\n",
    "        num = []\n",
    "        for x in str(prod):\n",
    "            num.append(int(x))\n",
    "        if num[0] == num[-1] and num[1] == num[-2] and num[2] == num[-3]:\n",
    "            spl.append([prod])\n",
    "        \n",
    "print(max(spl))"
   ]
  },
  {
   "cell_type": "code",
   "execution_count": 8,
   "metadata": {},
   "outputs": [
    {
     "data": {
      "text/plain": [
       "232792560"
      ]
     },
     "execution_count": 8,
     "metadata": {},
     "output_type": "execute_result"
    }
   ],
   "source": [
    "# 5\n",
    "\n",
    "nums = range(10,1000000000,10)\n",
    "a = set()\n",
    "for n in nums:\n",
    "    if n%2==0 and n%3==0 and n%4==0 and n%5==0 and n%6==0 and n%7==0 and n%8==0 and n%9==0 and n%11==0 and n%12==0 and n%13==0 and n%14==0 and n%15==0 and n%16==0 and n%17==0 and n%18==0 and n%19==0 and n%20==0:\n",
    "        a.add(n)\n",
    "min(a)"
   ]
  },
  {
   "cell_type": "code",
   "execution_count": 9,
   "metadata": {},
   "outputs": [
    {
     "data": {
      "text/plain": [
       "25164150"
      ]
     },
     "execution_count": 9,
     "metadata": {},
     "output_type": "execute_result"
    }
   ],
   "source": [
    "# 6\n",
    "\n",
    "sqs = []\n",
    "for n in range(1,101):\n",
    "    sqs.append(n**2)\n",
    "    summ = sum(range(1,101))**2\n",
    "diff = summ - sum(sqs)\n",
    "diff"
   ]
  },
  {
   "cell_type": "code",
   "execution_count": 11,
   "metadata": {},
   "outputs": [
    {
     "data": {
      "text/plain": [
       "104743"
      ]
     },
     "execution_count": 11,
     "metadata": {},
     "output_type": "execute_result"
    }
   ],
   "source": [
    "# 7\n",
    "\n",
    "def nth_prime_number(n):\n",
    "    # initial prime number list\n",
    "    prime_list = [2]\n",
    "    # first number to test if prime\n",
    "    num = 3\n",
    "    # keep generating primes until we get to the nth one\n",
    "    while len(prime_list) < n:\n",
    "\n",
    "        # check if num is divisible by any prime before it\n",
    "        for p in prime_list:\n",
    "            # if there is no remainder dividing the number\n",
    "            # then the number is not a prime\n",
    "            if num % p == 0:\n",
    "                # break to stop testing more numbers, we know it's not a prime\n",
    "                break\n",
    "\n",
    "        # if it is a prime, then add it to the list\n",
    "        # after a for loop, else runs if the \"break\" command has not been given\n",
    "        else:\n",
    "            # append to prime list\n",
    "            prime_list.append(num)\n",
    "\n",
    "        # same optimization you had, don't check even numbers\n",
    "        num += 2\n",
    "\n",
    "    # return the last prime number generated\n",
    "    return prime_list[-1]\n",
    "\n",
    "nth_prime_number(6)\n",
    "nth_prime_number(10001)\n",
    "\n"
   ]
  },
  {
   "cell_type": "code",
   "execution_count": 12,
   "metadata": {},
   "outputs": [
    {
     "data": {
      "text/plain": [
       "23514624000"
      ]
     },
     "execution_count": 12,
     "metadata": {},
     "output_type": "execute_result"
    }
   ],
   "source": [
    "# 8\n",
    "\n",
    "number_list = 7316717653133062491922511967442657474235534919493496983520312774506326239578318016984801869478851843858615607891129494954595017379583319528532088055111254069874715852386305071569329096329522744304355766896648950445244523161731856403098711121722383113622298934233803081353362766142828064444866452387493035890729629049156044077239071381051585930796086670172427121883998797908792274921901699720888093776657273330010533678812202354218097512545405947522435258490771167055601360483958644670632441572215539753697817977846174064955149290862569321978468622482839722413756570560574902614079729686524145351004748216637048440319989000889524345065854122758866688116427171479924442928230863465674813919123162824586178664583591245665294765456828489128831426076900422421902267105562632111110937054421750694165896040807198403850962455444362981230987879927244284909188845801561660979191338754992005240636899125607176060588611646710940507754100225698315520005593572972571636269561882670428252483600823257530420752963450\n",
    "\n",
    "#def prod_n_adj_digits(input_num, n):\n",
    "num_list = []\n",
    "prods = []\n",
    "for num in str(number_list):\n",
    "    num_list.append(int(num))\n",
    "    for i in range(12, len(num_list)):\n",
    "        prod = num_list[i] * num_list[i-1] * num_list[i-2] * num_list[i-3] * num_list[i-4] * num_list[i-5] * num_list[i-6] * num_list[i-7] * num_list[i-8] * num_list[i-9] * num_list[i-10] * num_list[i-11] * num_list[i-12]\n",
    "        prods.append(prod)\n",
    "max(prods)"
   ]
  },
  {
   "cell_type": "code",
   "execution_count": 13,
   "metadata": {},
   "outputs": [
    {
     "name": "stdout",
     "output_type": "stream",
     "text": [
      "31875000\n"
     ]
    }
   ],
   "source": [
    "# 9\n",
    "\n",
    "a_list = range(1000)\n",
    "b_list = range(1000)\n",
    "for a in a_list:\n",
    "    for b in b_list:\n",
    "        c = 1000 - a - b\n",
    "        if a < b and b < c and a**2 + b**2 == c**2 and a+b+c==1000:\n",
    "            print(a*b*c)"
   ]
  },
  {
   "cell_type": "code",
   "execution_count": null,
   "metadata": {},
   "outputs": [],
   "source": [
    "# 10\n",
    "\n",
    "prime_list = set()\n",
    "prime_list.add(2)\n",
    "prime_list.add(3)\n",
    "num = 5\n",
    "# keep generating primes until we get to the nth one\n",
    "while num < 2000000:\n",
    "\n",
    "    # check if num is divisible by any prime before it\n",
    "    for p in prime_list:\n",
    "        # if there is no remainder dividing the number\n",
    "        # then the number is not a prime\n",
    "        if num % p == 0:\n",
    "            # break to stop testing more numbers, we know it's not a prime\n",
    "            break\n",
    "\n",
    "        # if it is a prime, then add it to the list\n",
    "        # after a for loop, else runs if the \"break\" command has not been given\n",
    "    else:\n",
    "            # append to prime list\n",
    "        \n",
    "        prime_list.add(num)\n",
    "\n",
    "    num += 2\n",
    "\n",
    "    # return the last prime number generated\n",
    "sum(prime_list)"
   ]
  },
  {
   "cell_type": "code",
   "execution_count": null,
   "metadata": {},
   "outputs": [],
   "source": [
    "# End"
   ]
  },
  {
   "cell_type": "code",
   "execution_count": null,
   "metadata": {},
   "outputs": [],
   "source": []
  }
 ],
 "metadata": {
  "kernelspec": {
   "display_name": "Python 3",
   "language": "python",
   "name": "python3"
  },
  "language_info": {
   "codemirror_mode": {
    "name": "ipython",
    "version": 3
   },
   "file_extension": ".py",
   "mimetype": "text/x-python",
   "name": "python",
   "nbconvert_exporter": "python",
   "pygments_lexer": "ipython3",
   "version": "3.6.5"
  }
 },
 "nbformat": 4,
 "nbformat_minor": 2
}
