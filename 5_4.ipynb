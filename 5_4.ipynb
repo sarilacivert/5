{
 "cells": [
  {
   "cell_type": "markdown",
   "metadata": {},
   "source": [
    "# Self Report Pros and Cons"
   ]
  },
  {
   "cell_type": "code",
   "execution_count": 14,
   "metadata": {},
   "outputs": [],
   "source": [
    "import pandas as pd\n",
    "import numpy as np\n",
    "import matplotlib.pyplot as plt\n",
    "import seaborn as sns\n",
    "%matplotlib inline\n",
    "from scipy.stats import ttest_ind, f_oneway, ttest_rel, shapiro\n",
    "from scipy.stats import kruskal, wilcoxon\n",
    "from statsmodels.stats.multicomp import pairwise_tukeyhsd"
   ]
  },
  {
   "cell_type": "code",
   "execution_count": 16,
   "metadata": {},
   "outputs": [
    {
     "data": {
      "text/html": [
       "<div>\n",
       "<style scoped>\n",
       "    .dataframe tbody tr th:only-of-type {\n",
       "        vertical-align: middle;\n",
       "    }\n",
       "\n",
       "    .dataframe tbody tr th {\n",
       "        vertical-align: top;\n",
       "    }\n",
       "\n",
       "    .dataframe thead th {\n",
       "        text-align: right;\n",
       "    }\n",
       "</style>\n",
       "<table border=\"1\" class=\"dataframe\">\n",
       "  <thead>\n",
       "    <tr style=\"text-align: right;\">\n",
       "      <th></th>\n",
       "      <th>cntry</th>\n",
       "      <th>idno</th>\n",
       "      <th>year</th>\n",
       "      <th>tvtot</th>\n",
       "      <th>ppltrst</th>\n",
       "      <th>pplfair</th>\n",
       "      <th>pplhlp</th>\n",
       "      <th>happy</th>\n",
       "      <th>sclmeet</th>\n",
       "      <th>sclact</th>\n",
       "      <th>gndr</th>\n",
       "      <th>agea</th>\n",
       "      <th>partner</th>\n",
       "    </tr>\n",
       "  </thead>\n",
       "  <tbody>\n",
       "    <tr>\n",
       "      <th>0</th>\n",
       "      <td>CH</td>\n",
       "      <td>5</td>\n",
       "      <td>6</td>\n",
       "      <td>3</td>\n",
       "      <td>3</td>\n",
       "      <td>10</td>\n",
       "      <td>5</td>\n",
       "      <td>8</td>\n",
       "      <td>5</td>\n",
       "      <td>4</td>\n",
       "      <td>2</td>\n",
       "      <td>60.0</td>\n",
       "      <td>1.0</td>\n",
       "    </tr>\n",
       "    <tr>\n",
       "      <th>1</th>\n",
       "      <td>CH</td>\n",
       "      <td>25</td>\n",
       "      <td>6</td>\n",
       "      <td>6</td>\n",
       "      <td>5</td>\n",
       "      <td>7</td>\n",
       "      <td>5</td>\n",
       "      <td>9</td>\n",
       "      <td>3</td>\n",
       "      <td>2</td>\n",
       "      <td>2</td>\n",
       "      <td>59.0</td>\n",
       "      <td>1.0</td>\n",
       "    </tr>\n",
       "    <tr>\n",
       "      <th>2</th>\n",
       "      <td>CH</td>\n",
       "      <td>26</td>\n",
       "      <td>6</td>\n",
       "      <td>1</td>\n",
       "      <td>8</td>\n",
       "      <td>8</td>\n",
       "      <td>8</td>\n",
       "      <td>7</td>\n",
       "      <td>6</td>\n",
       "      <td>3</td>\n",
       "      <td>1</td>\n",
       "      <td>24.0</td>\n",
       "      <td>2.0</td>\n",
       "    </tr>\n",
       "    <tr>\n",
       "      <th>3</th>\n",
       "      <td>CH</td>\n",
       "      <td>28</td>\n",
       "      <td>6</td>\n",
       "      <td>4</td>\n",
       "      <td>6</td>\n",
       "      <td>6</td>\n",
       "      <td>7</td>\n",
       "      <td>10</td>\n",
       "      <td>6</td>\n",
       "      <td>2</td>\n",
       "      <td>2</td>\n",
       "      <td>64.0</td>\n",
       "      <td>1.0</td>\n",
       "    </tr>\n",
       "    <tr>\n",
       "      <th>4</th>\n",
       "      <td>CH</td>\n",
       "      <td>29</td>\n",
       "      <td>6</td>\n",
       "      <td>5</td>\n",
       "      <td>6</td>\n",
       "      <td>7</td>\n",
       "      <td>5</td>\n",
       "      <td>8</td>\n",
       "      <td>7</td>\n",
       "      <td>2</td>\n",
       "      <td>2</td>\n",
       "      <td>55.0</td>\n",
       "      <td>1.0</td>\n",
       "    </tr>\n",
       "  </tbody>\n",
       "</table>\n",
       "</div>"
      ],
      "text/plain": [
       "  cntry  idno  year  tvtot  ppltrst  pplfair  pplhlp  happy  sclmeet  sclact  \\\n",
       "0    CH     5     6      3        3       10       5      8        5       4   \n",
       "1    CH    25     6      6        5        7       5      9        3       2   \n",
       "2    CH    26     6      1        8        8       8      7        6       3   \n",
       "3    CH    28     6      4        6        6       7     10        6       2   \n",
       "4    CH    29     6      5        6        7       5      8        7       2   \n",
       "\n",
       "   gndr  agea  partner  \n",
       "0     2  60.0      1.0  \n",
       "1     2  59.0      1.0  \n",
       "2     1  24.0      2.0  \n",
       "3     2  64.0      1.0  \n",
       "4     2  55.0      1.0  "
      ]
     },
     "execution_count": 16,
     "metadata": {},
     "output_type": "execute_result"
    }
   ],
   "source": [
    "# the data\n",
    "ess_raw = pd.read_csv('C:/Users/johfoxwo/Documents/ess.csv')\n",
    "ess_raw.head()"
   ]
  },
  {
   "cell_type": "code",
   "execution_count": 17,
   "metadata": {},
   "outputs": [
    {
     "name": "stdout",
     "output_type": "stream",
     "text": [
      "\t\t***Distribution of Trust from 2012 to 2014 for Six European Countries***\n"
     ]
    },
    {
     "data": {
      "image/png": "[encoded data removed]",
      "text/plain": [
       "<Figure size 1296x432 with 12 Axes>"
      ]
     },
     "metadata": {},
     "output_type": "display_data"
    },
    {
     "name": "stdout",
     "output_type": "stream",
     "text": [
      "Shapiro Tests for Normality\n",
      "CH 6 (0.9519361853599548, 3.4958809444132896e-15)\n",
      "CH 7 (0.954159677028656, 1.350394388731314e-14)\n",
      "\n",
      "CZ 6 (0.9682785272598267, 1.6495657617632276e-10)\n",
      "CZ 7 (0.9716160893440247, 9.49808676153907e-10)\n",
      "\n",
      "DE 6 (0.9013110399246216, 0.1178363636136055)\n",
      "DE 7 (0.9425466060638428, 0.4519253373146057)\n",
      "\n",
      "ES 6 (0.9502152800559998, 1.659013728310754e-19)\n",
      "ES 7 (0.9667219519615173, 8.438815611740407e-16)\n",
      "\n",
      "NO 6 (0.9207131266593933, 6.158553013925475e-19)\n",
      "NO 7 (0.9296504855155945, 7.752041397368294e-18)\n",
      "\n",
      "SE 6 (0.9357976913452148, 6.789422987604356e-19)\n",
      "SE 7 (0.9374719262123108, 9.7949289426002e-19)\n",
      "\n"
     ]
    }
   ],
   "source": [
    "g = sns.FacetGrid(ess_raw, row='year', col='cntry', palette='pastel', dropna=True, sharey=False)\n",
    "g = g.map(plt.hist, 'ppltrst', alpha=0.8)\n",
    "\n",
    "print('\\t\\t***Distribution of Trust from 2012 to 2014 for Six European Countries***')\n",
    "plt.show()\n",
    "\n",
    "cntrys = list(ess_raw.cntry.unique())\n",
    "years = [6,7]\n",
    "print('Shapiro Tests for Normality')\n",
    "for cnt in cntrys:\n",
    "    \n",
    "    ess_temp = ess_raw[ess_raw.cntry ==cnt].dropna()\n",
    "    for year in years:\n",
    "        \n",
    "        print(cnt, year, shapiro(ess_temp[ess_temp.year ==year].ppltrst))\n",
    "    print()"
   ]
  },
  {
   "cell_type": "code",
   "execution_count": null,
   "metadata": {},
   "outputs": [],
   "source": []
  }
 ],
 "metadata": {
  "kernelspec": {
   "display_name": "Python 3",
   "language": "python",
   "name": "python3"
  },
  "language_info": {
   "codemirror_mode": {
    "name": "ipython",
    "version": 3
   },
   "file_extension": ".py",
   "mimetype": "text/x-python",
   "name": "python",
   "nbconvert_exporter": "python",
   "pygments_lexer": "ipython3",
   "version": "3.6.5"
  }
 },
 "nbformat": 4,
 "nbformat_minor": 2
}
